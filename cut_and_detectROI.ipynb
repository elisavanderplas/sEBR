{
 "cells": [
  {
   "cell_type": "code",
   "execution_count": null,
   "metadata": {
    "collapsed": true
   },
   "outputs": [],
   "source": [
    "# this bit cuts every registration into smaller jpg images "
   ]
  },
  {
   "cell_type": "code",
   "execution_count": 1,
   "metadata": {
    "collapsed": true
   },
   "outputs": [],
   "source": [
    "from sklearn.cross_validation import train_test_split\n",
    "from sklearn.metrics import classification_report\n",
    "from sklearn import datasets\n",
    "#from nolearn.dbn import DBN, doesn't work\n",
    "import numpy as np\n",
    "import cv2"
   ]
  },
  {
   "cell_type": "code",
   "execution_count": 43,
   "metadata": {
    "collapsed": true
   },
   "outputs": [],
   "source": [
    "#participant 1\n",
    "vidcap = cv2.VideoCapture('prediction_data/20.avi')"
   ]
  },
  {
   "cell_type": "code",
   "execution_count": 44,
   "metadata": {
    "collapsed": true
   },
   "outputs": [],
   "source": [
    "success,image = vidcap.read()\n",
    "# image is an array of array of [R,G,B] values"
   ]
  },
  {
   "cell_type": "code",
   "execution_count": 45,
   "metadata": {
    "collapsed": true
   },
   "outputs": [],
   "source": [
    "count = 0;\n",
    "while success:\n",
    "  success,image = vidcap.read()\n",
    "  cv2.imwrite(\"frame%d.jpg\" % count, image)     # save frame as JPEG file\n",
    "  if cv2.waitKey(10) == 27:                     # exit if Escape is hit\n",
    "      break\n",
    "  count += 1"
   ]
  },
  {
   "cell_type": "code",
   "execution_count": null,
   "metadata": {
    "collapsed": true
   },
   "outputs": [],
   "source": [
    "# now we want a for loop to find the ROI's in those images (called: frame0, frame 1, frame 2, etc)"
   ]
  },
  {
   "cell_type": "code",
   "execution_count": 2,
   "metadata": {
    "collapsed": true
   },
   "outputs": [],
   "source": [
    "# import more packages\n",
    "import pandas as pd\n",
    "import numpy as np\n",
    "import statsmodels.api as sm\n",
    "import os,sys\n",
    "import matplotlib.gridspec as gridspec\n",
    "import matplotlib.pyplot as plt\n",
    "from scipy import stats\n",
    "import cv2\n",
    "from matplotlib import pyplot as plt\n",
    "from os import listdir\n",
    "from os.path import isfile, join\n",
    "import numpy"
   ]
  },
  {
   "cell_type": "code",
   "execution_count": 27,
   "metadata": {
    "collapsed": true
   },
   "outputs": [],
   "source": [
    "# download and use multiple cascades: https://github.com/Itseez/opencv/tree/master/data/haarcascades\n",
    "#FOR EXAMPLE:\n",
    "#https://github.com/Itseez/opencv/blob/master/data/haarcascades/haarcascade_frontalface_default.xml\n",
    "face_cascade = cv2.CascadeClassifier('haarcascade_frontalface_default.xml')\n",
    "#https://github.com/Itseez/opencv/blob/master/data/haarcascades/haarcascade_eye.xml\n",
    "eye_cascade = cv2.CascadeClassifier('haarcascade_eye.xml')\n",
    "\n",
    "#cap = cv2.VideoCapture(0)"
   ]
  },
  {
   "cell_type": "code",
   "execution_count": 5,
   "metadata": {},
   "outputs": [],
   "source": [
    "# Set path and directory\n",
    "mypath = '/Users/Elisa/Dropbox/sEBR/CNN/sj_1'\n",
    "dirs = os.listdir( mypath )"
   ]
  },
  {
   "cell_type": "code",
   "execution_count": 6,
   "metadata": {},
   "outputs": [],
   "source": [
    "#loop trhough directory and safe to image list()\n",
    "images = list()\n",
    "for item in os.listdir(mypath):\n",
    "    if '.jpg' in item:  # this could be more correctly done with os.path.splitext\n",
    "        image = cv2.imread(os.path.join(mypath, item))\n",
    "        if image is not None:\n",
    "            images.append(image)        "
   ]
  },
  {
   "cell_type": "code",
   "execution_count": null,
   "metadata": {
    "collapsed": true
   },
   "outputs": [],
   "source": [
    "i = 0\n",
    "while True:\n",
    "    img = cv.QueryFrame(capture)\n",
    "    cv.ShowImage(\"camera\", img)\n",
    "    cv.SaveImage('pic{:>05}.jpg'.format(i), img)\n",
    "    if cv.WaitKey(10) == 27:\n",
    "        break\n",
    "    i += 1"
   ]
  },
  {
   "cell_type": "code",
   "execution_count": null,
   "metadata": {},
   "outputs": [],
   "source": [
    "#now detect the regions of interest of images\n",
    "\n",
    "# Initialize cascade classifier with pre-trained haar-like facial features\n",
    "classifier = cv2.CascadeClassifier('haarcascade_eye.xml')\n",
    "\n",
    "for image in images:\n",
    "    gray = cv2.cvtColor(image, cv2.COLOR_BGR2GRAY)\n",
    "    face = classifier.detectMultiScale(\n",
    "        gray,\n",
    "        scaleFactor=1.1,\n",
    "        minNeighbors=5,\n",
    "        minSize=(30, 30),\n",
    "        flags = 0)#probeer met for loop erin! Thanks to Jonas van Oenen ;)\n",
    "    for (x, y, w, h) in face:\n",
    "        cv2.rectangle(gray, (x, y), (x+w, y+h), (0, 255, 0), 2)\n",
    "        plt.imshow(gray, 'gray')"
   ]
  },
  {
   "cell_type": "code",
   "execution_count": null,
   "metadata": {
    "collapsed": true
   },
   "outputs": [],
   "source": [
    "plt.show()"
   ]
  },
  {
   "cell_type": "code",
   "execution_count": null,
   "metadata": {
    "collapsed": true
   },
   "outputs": [],
   "source": [
    "# safe the ROI's with loop by overwriting the files\n",
    "plt.savefig(dirs, )"
   ]
  },
  {
   "cell_type": "code",
   "execution_count": null,
   "metadata": {
    "collapsed": true
   },
   "outputs": [],
   "source": [
    "plt.close('all')"
   ]
  },
  {
   "cell_type": "code",
   "execution_count": null,
   "metadata": {
    "collapsed": true
   },
   "outputs": [],
   "source": []
  }
 ],
 "metadata": {
  "kernelspec": {
   "display_name": "Python 3",
   "language": "python",
   "name": "python3"
  },
  "language_info": {
   "codemirror_mode": {
    "name": "ipython",
    "version": 3
   },
   "file_extension": ".py",
   "mimetype": "text/x-python",
   "name": "python",
   "nbconvert_exporter": "python",
   "pygments_lexer": "ipython3",
   "version": "3.8.3"
  }
 },
 "nbformat": 4,
 "nbformat_minor": 1
}
